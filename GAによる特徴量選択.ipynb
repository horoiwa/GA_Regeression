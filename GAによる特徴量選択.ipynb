{
 "cells": [
  {
   "cell_type": "markdown",
   "metadata": {},
   "source": [
    "### 遺伝的アルゴリズムによる特徴量選択"
   ]
  },
  {
   "cell_type": "markdown",
   "metadata": {},
   "source": [
    "**データセットのロード**  "
   ]
  },
  {
   "cell_type": "code",
   "execution_count": 52,
   "metadata": {},
   "outputs": [
    {
     "data": {
      "text/html": [
       "<div>\n",
       "<style scoped>\n",
       "    .dataframe tbody tr th:only-of-type {\n",
       "        vertical-align: middle;\n",
       "    }\n",
       "\n",
       "    .dataframe tbody tr th {\n",
       "        vertical-align: top;\n",
       "    }\n",
       "\n",
       "    .dataframe thead th {\n",
       "        text-align: right;\n",
       "    }\n",
       "</style>\n",
       "<table border=\"1\" class=\"dataframe\">\n",
       "  <thead>\n",
       "    <tr style=\"text-align: right;\">\n",
       "      <th></th>\n",
       "      <th>CRIM</th>\n",
       "      <th>ZN</th>\n",
       "      <th>INDUS</th>\n",
       "      <th>CHAS</th>\n",
       "      <th>NOX</th>\n",
       "      <th>RM</th>\n",
       "      <th>AGE</th>\n",
       "      <th>DIS</th>\n",
       "      <th>RAD</th>\n",
       "      <th>TAX</th>\n",
       "      <th>PTRATIO</th>\n",
       "      <th>B</th>\n",
       "      <th>LSTAT</th>\n",
       "    </tr>\n",
       "  </thead>\n",
       "  <tbody>\n",
       "    <tr>\n",
       "      <th>0</th>\n",
       "      <td>0.00632</td>\n",
       "      <td>18.0</td>\n",
       "      <td>2.31</td>\n",
       "      <td>0.0</td>\n",
       "      <td>0.538</td>\n",
       "      <td>6.575</td>\n",
       "      <td>65.2</td>\n",
       "      <td>4.0900</td>\n",
       "      <td>1.0</td>\n",
       "      <td>296.0</td>\n",
       "      <td>15.3</td>\n",
       "      <td>396.90</td>\n",
       "      <td>4.98</td>\n",
       "    </tr>\n",
       "    <tr>\n",
       "      <th>1</th>\n",
       "      <td>0.02731</td>\n",
       "      <td>0.0</td>\n",
       "      <td>7.07</td>\n",
       "      <td>0.0</td>\n",
       "      <td>0.469</td>\n",
       "      <td>6.421</td>\n",
       "      <td>78.9</td>\n",
       "      <td>4.9671</td>\n",
       "      <td>2.0</td>\n",
       "      <td>242.0</td>\n",
       "      <td>17.8</td>\n",
       "      <td>396.90</td>\n",
       "      <td>9.14</td>\n",
       "    </tr>\n",
       "    <tr>\n",
       "      <th>2</th>\n",
       "      <td>0.02729</td>\n",
       "      <td>0.0</td>\n",
       "      <td>7.07</td>\n",
       "      <td>0.0</td>\n",
       "      <td>0.469</td>\n",
       "      <td>7.185</td>\n",
       "      <td>61.1</td>\n",
       "      <td>4.9671</td>\n",
       "      <td>2.0</td>\n",
       "      <td>242.0</td>\n",
       "      <td>17.8</td>\n",
       "      <td>392.83</td>\n",
       "      <td>4.03</td>\n",
       "    </tr>\n",
       "    <tr>\n",
       "      <th>3</th>\n",
       "      <td>0.03237</td>\n",
       "      <td>0.0</td>\n",
       "      <td>2.18</td>\n",
       "      <td>0.0</td>\n",
       "      <td>0.458</td>\n",
       "      <td>6.998</td>\n",
       "      <td>45.8</td>\n",
       "      <td>6.0622</td>\n",
       "      <td>3.0</td>\n",
       "      <td>222.0</td>\n",
       "      <td>18.7</td>\n",
       "      <td>394.63</td>\n",
       "      <td>2.94</td>\n",
       "    </tr>\n",
       "    <tr>\n",
       "      <th>4</th>\n",
       "      <td>0.06905</td>\n",
       "      <td>0.0</td>\n",
       "      <td>2.18</td>\n",
       "      <td>0.0</td>\n",
       "      <td>0.458</td>\n",
       "      <td>7.147</td>\n",
       "      <td>54.2</td>\n",
       "      <td>6.0622</td>\n",
       "      <td>3.0</td>\n",
       "      <td>222.0</td>\n",
       "      <td>18.7</td>\n",
       "      <td>396.90</td>\n",
       "      <td>5.33</td>\n",
       "    </tr>\n",
       "  </tbody>\n",
       "</table>\n",
       "</div>"
      ],
      "text/plain": [
       "      CRIM    ZN  INDUS  CHAS    NOX     RM   AGE     DIS  RAD    TAX  \\\n",
       "0  0.00632  18.0   2.31   0.0  0.538  6.575  65.2  4.0900  1.0  296.0   \n",
       "1  0.02731   0.0   7.07   0.0  0.469  6.421  78.9  4.9671  2.0  242.0   \n",
       "2  0.02729   0.0   7.07   0.0  0.469  7.185  61.1  4.9671  2.0  242.0   \n",
       "3  0.03237   0.0   2.18   0.0  0.458  6.998  45.8  6.0622  3.0  222.0   \n",
       "4  0.06905   0.0   2.18   0.0  0.458  7.147  54.2  6.0622  3.0  222.0   \n",
       "\n",
       "   PTRATIO       B  LSTAT  \n",
       "0     15.3  396.90   4.98  \n",
       "1     17.8  396.90   9.14  \n",
       "2     17.8  392.83   4.03  \n",
       "3     18.7  394.63   2.94  \n",
       "4     18.7  396.90   5.33  "
      ]
     },
     "execution_count": 52,
     "metadata": {},
     "output_type": "execute_result"
    }
   ],
   "source": [
    "import pandas as pd\n",
    "import numpy as np\n",
    "from sklearn.datasets import load_boston\n",
    "\n",
    "X = pd.DataFrame(load_boston().data, columns=load_boston().feature_names)\n",
    "y = load_boston().target\n",
    "\n",
    "X.head()"
   ]
  },
  {
   "cell_type": "markdown",
   "metadata": {},
   "source": [
    "**多項式特徴量の生成**"
   ]
  },
  {
   "cell_type": "code",
   "execution_count": 53,
   "metadata": {},
   "outputs": [],
   "source": [
    "from sklearn.preprocessing import PolynomialFeatures\n",
    "\n",
    "poly = PolynomialFeatures(2)\n",
    "poly.fit(X)\n",
    "X_poly = pd.DataFrame(poly.transform(X), columns=poly.get_feature_names(input_features=X.columns))"
   ]
  },
  {
   "cell_type": "markdown",
   "metadata": {},
   "source": [
    "**標準化**"
   ]
  },
  {
   "cell_type": "code",
   "execution_count": 63,
   "metadata": {},
   "outputs": [],
   "source": [
    "from sklearn.preprocessing import StandardScaler\n",
    "\n",
    "StSc = StandardScaler()\n",
    "X_sc = pd.DataFrame(StSc.fit_transform(X), columns=X.columns)\n",
    "\n",
    "X_poly_sc = pd.DataFrame(StSc.fit_transform(X_poly), columns=X_poly.columns)"
   ]
  },
  {
   "cell_type": "code",
   "execution_count": 68,
   "metadata": {},
   "outputs": [
    {
     "name": "stdout",
     "output_type": "stream",
     "text": [
      "(506, 13)\n"
     ]
    },
    {
     "data": {
      "text/html": [
       "<div>\n",
       "<style scoped>\n",
       "    .dataframe tbody tr th:only-of-type {\n",
       "        vertical-align: middle;\n",
       "    }\n",
       "\n",
       "    .dataframe tbody tr th {\n",
       "        vertical-align: top;\n",
       "    }\n",
       "\n",
       "    .dataframe thead th {\n",
       "        text-align: right;\n",
       "    }\n",
       "</style>\n",
       "<table border=\"1\" class=\"dataframe\">\n",
       "  <thead>\n",
       "    <tr style=\"text-align: right;\">\n",
       "      <th></th>\n",
       "      <th>CRIM</th>\n",
       "      <th>ZN</th>\n",
       "      <th>INDUS</th>\n",
       "      <th>CHAS</th>\n",
       "      <th>NOX</th>\n",
       "      <th>RM</th>\n",
       "      <th>AGE</th>\n",
       "      <th>DIS</th>\n",
       "      <th>RAD</th>\n",
       "      <th>TAX</th>\n",
       "      <th>PTRATIO</th>\n",
       "      <th>B</th>\n",
       "      <th>LSTAT</th>\n",
       "    </tr>\n",
       "  </thead>\n",
       "  <tbody>\n",
       "    <tr>\n",
       "      <th>0</th>\n",
       "      <td>-0.419782</td>\n",
       "      <td>0.284830</td>\n",
       "      <td>-1.287909</td>\n",
       "      <td>-0.272599</td>\n",
       "      <td>-0.144217</td>\n",
       "      <td>0.413672</td>\n",
       "      <td>-0.120013</td>\n",
       "      <td>0.140214</td>\n",
       "      <td>-0.982843</td>\n",
       "      <td>-0.666608</td>\n",
       "      <td>-1.459000</td>\n",
       "      <td>0.441052</td>\n",
       "      <td>-1.075562</td>\n",
       "    </tr>\n",
       "    <tr>\n",
       "      <th>1</th>\n",
       "      <td>-0.417339</td>\n",
       "      <td>-0.487722</td>\n",
       "      <td>-0.593381</td>\n",
       "      <td>-0.272599</td>\n",
       "      <td>-0.740262</td>\n",
       "      <td>0.194274</td>\n",
       "      <td>0.367166</td>\n",
       "      <td>0.557160</td>\n",
       "      <td>-0.867883</td>\n",
       "      <td>-0.987329</td>\n",
       "      <td>-0.303094</td>\n",
       "      <td>0.441052</td>\n",
       "      <td>-0.492439</td>\n",
       "    </tr>\n",
       "    <tr>\n",
       "      <th>2</th>\n",
       "      <td>-0.417342</td>\n",
       "      <td>-0.487722</td>\n",
       "      <td>-0.593381</td>\n",
       "      <td>-0.272599</td>\n",
       "      <td>-0.740262</td>\n",
       "      <td>1.282714</td>\n",
       "      <td>-0.265812</td>\n",
       "      <td>0.557160</td>\n",
       "      <td>-0.867883</td>\n",
       "      <td>-0.987329</td>\n",
       "      <td>-0.303094</td>\n",
       "      <td>0.396427</td>\n",
       "      <td>-1.208727</td>\n",
       "    </tr>\n",
       "    <tr>\n",
       "      <th>3</th>\n",
       "      <td>-0.416750</td>\n",
       "      <td>-0.487722</td>\n",
       "      <td>-1.306878</td>\n",
       "      <td>-0.272599</td>\n",
       "      <td>-0.835284</td>\n",
       "      <td>1.016303</td>\n",
       "      <td>-0.809889</td>\n",
       "      <td>1.077737</td>\n",
       "      <td>-0.752922</td>\n",
       "      <td>-1.106115</td>\n",
       "      <td>0.113032</td>\n",
       "      <td>0.416163</td>\n",
       "      <td>-1.361517</td>\n",
       "    </tr>\n",
       "    <tr>\n",
       "      <th>4</th>\n",
       "      <td>-0.412482</td>\n",
       "      <td>-0.487722</td>\n",
       "      <td>-1.306878</td>\n",
       "      <td>-0.272599</td>\n",
       "      <td>-0.835284</td>\n",
       "      <td>1.228577</td>\n",
       "      <td>-0.511180</td>\n",
       "      <td>1.077737</td>\n",
       "      <td>-0.752922</td>\n",
       "      <td>-1.106115</td>\n",
       "      <td>0.113032</td>\n",
       "      <td>0.441052</td>\n",
       "      <td>-1.026501</td>\n",
       "    </tr>\n",
       "  </tbody>\n",
       "</table>\n",
       "</div>"
      ],
      "text/plain": [
       "       CRIM        ZN     INDUS      CHAS       NOX        RM       AGE  \\\n",
       "0 -0.419782  0.284830 -1.287909 -0.272599 -0.144217  0.413672 -0.120013   \n",
       "1 -0.417339 -0.487722 -0.593381 -0.272599 -0.740262  0.194274  0.367166   \n",
       "2 -0.417342 -0.487722 -0.593381 -0.272599 -0.740262  1.282714 -0.265812   \n",
       "3 -0.416750 -0.487722 -1.306878 -0.272599 -0.835284  1.016303 -0.809889   \n",
       "4 -0.412482 -0.487722 -1.306878 -0.272599 -0.835284  1.228577 -0.511180   \n",
       "\n",
       "        DIS       RAD       TAX   PTRATIO         B     LSTAT  \n",
       "0  0.140214 -0.982843 -0.666608 -1.459000  0.441052 -1.075562  \n",
       "1  0.557160 -0.867883 -0.987329 -0.303094  0.441052 -0.492439  \n",
       "2  0.557160 -0.867883 -0.987329 -0.303094  0.396427 -1.208727  \n",
       "3  1.077737 -0.752922 -1.106115  0.113032  0.416163 -1.361517  \n",
       "4  1.077737 -0.752922 -1.106115  0.113032  0.441052 -1.026501  "
      ]
     },
     "execution_count": 68,
     "metadata": {},
     "output_type": "execute_result"
    }
   ],
   "source": [
    "print(X_sc.shape)\n",
    "X_sc.head()"
   ]
  },
  {
   "cell_type": "code",
   "execution_count": 66,
   "metadata": {},
   "outputs": [
    {
     "name": "stdout",
     "output_type": "stream",
     "text": [
      "(506, 105)\n"
     ]
    },
    {
     "data": {
      "text/html": [
       "<div>\n",
       "<style scoped>\n",
       "    .dataframe tbody tr th:only-of-type {\n",
       "        vertical-align: middle;\n",
       "    }\n",
       "\n",
       "    .dataframe tbody tr th {\n",
       "        vertical-align: top;\n",
       "    }\n",
       "\n",
       "    .dataframe thead th {\n",
       "        text-align: right;\n",
       "    }\n",
       "</style>\n",
       "<table border=\"1\" class=\"dataframe\">\n",
       "  <thead>\n",
       "    <tr style=\"text-align: right;\">\n",
       "      <th></th>\n",
       "      <th>1</th>\n",
       "      <th>CRIM</th>\n",
       "      <th>ZN</th>\n",
       "      <th>INDUS</th>\n",
       "      <th>CHAS</th>\n",
       "      <th>NOX</th>\n",
       "      <th>RM</th>\n",
       "      <th>AGE</th>\n",
       "      <th>DIS</th>\n",
       "      <th>RAD</th>\n",
       "      <th>...</th>\n",
       "      <th>TAX^2</th>\n",
       "      <th>TAX PTRATIO</th>\n",
       "      <th>TAX B</th>\n",
       "      <th>TAX LSTAT</th>\n",
       "      <th>PTRATIO^2</th>\n",
       "      <th>PTRATIO B</th>\n",
       "      <th>PTRATIO LSTAT</th>\n",
       "      <th>B^2</th>\n",
       "      <th>B LSTAT</th>\n",
       "      <th>LSTAT^2</th>\n",
       "    </tr>\n",
       "  </thead>\n",
       "  <tbody>\n",
       "    <tr>\n",
       "      <th>0</th>\n",
       "      <td>0.0</td>\n",
       "      <td>-0.419782</td>\n",
       "      <td>0.284830</td>\n",
       "      <td>-1.287909</td>\n",
       "      <td>-0.272599</td>\n",
       "      <td>-0.144217</td>\n",
       "      <td>0.413672</td>\n",
       "      <td>-0.120013</td>\n",
       "      <td>0.140214</td>\n",
       "      <td>-0.982843</td>\n",
       "      <td>...</td>\n",
       "      <td>-0.682024</td>\n",
       "      <td>-0.851123</td>\n",
       "      <td>-0.330577</td>\n",
       "      <td>-0.855594</td>\n",
       "      <td>-1.458429</td>\n",
       "      <td>-0.258778</td>\n",
       "      <td>-1.119678</td>\n",
       "      <td>0.526328</td>\n",
       "      <td>-0.880250</td>\n",
       "      <td>-0.789529</td>\n",
       "    </tr>\n",
       "    <tr>\n",
       "      <th>1</th>\n",
       "      <td>0.0</td>\n",
       "      <td>-0.417339</td>\n",
       "      <td>-0.487722</td>\n",
       "      <td>-0.593381</td>\n",
       "      <td>-0.272599</td>\n",
       "      <td>-0.740262</td>\n",
       "      <td>0.194274</td>\n",
       "      <td>0.367166</td>\n",
       "      <td>0.557160</td>\n",
       "      <td>-0.867883</td>\n",
       "      <td>...</td>\n",
       "      <td>-0.866530</td>\n",
       "      <td>-0.910453</td>\n",
       "      <td>-0.662577</td>\n",
       "      <td>-0.710303</td>\n",
       "      <td>-0.373078</td>\n",
       "      <td>0.281739</td>\n",
       "      <td>-0.525858</td>\n",
       "      <td>0.526328</td>\n",
       "      <td>-0.247866</td>\n",
       "      <td>-0.540454</td>\n",
       "    </tr>\n",
       "    <tr>\n",
       "      <th>2</th>\n",
       "      <td>0.0</td>\n",
       "      <td>-0.417342</td>\n",
       "      <td>-0.487722</td>\n",
       "      <td>-0.593381</td>\n",
       "      <td>-0.272599</td>\n",
       "      <td>-0.740262</td>\n",
       "      <td>1.282714</td>\n",
       "      <td>-0.265812</td>\n",
       "      <td>0.557160</td>\n",
       "      <td>-0.867883</td>\n",
       "      <td>...</td>\n",
       "      <td>-0.866530</td>\n",
       "      <td>-0.910453</td>\n",
       "      <td>-0.677834</td>\n",
       "      <td>-0.953823</td>\n",
       "      <td>-0.373078</td>\n",
       "      <td>0.242275</td>\n",
       "      <td>-1.150296</td>\n",
       "      <td>0.449414</td>\n",
       "      <td>-1.030947</td>\n",
       "      <td>-0.825825</td>\n",
       "    </tr>\n",
       "    <tr>\n",
       "      <th>3</th>\n",
       "      <td>0.0</td>\n",
       "      <td>-0.416750</td>\n",
       "      <td>-0.487722</td>\n",
       "      <td>-1.306878</td>\n",
       "      <td>-0.272599</td>\n",
       "      <td>-0.835284</td>\n",
       "      <td>1.016303</td>\n",
       "      <td>-0.809889</td>\n",
       "      <td>1.077737</td>\n",
       "      <td>-0.752922</td>\n",
       "      <td>...</td>\n",
       "      <td>-0.925467</td>\n",
       "      <td>-0.952349</td>\n",
       "      <td>-0.793346</td>\n",
       "      <td>-1.017347</td>\n",
       "      <td>0.057783</td>\n",
       "      <td>0.453202</td>\n",
       "      <td>-1.265329</td>\n",
       "      <td>0.483332</td>\n",
       "      <td>-1.192918</td>\n",
       "      <td>-0.858040</td>\n",
       "    </tr>\n",
       "    <tr>\n",
       "      <th>4</th>\n",
       "      <td>0.0</td>\n",
       "      <td>-0.412482</td>\n",
       "      <td>-0.487722</td>\n",
       "      <td>-1.306878</td>\n",
       "      <td>-0.272599</td>\n",
       "      <td>-0.835284</td>\n",
       "      <td>1.228577</td>\n",
       "      <td>-0.511180</td>\n",
       "      <td>1.077737</td>\n",
       "      <td>-0.752922</td>\n",
       "      <td>...</td>\n",
       "      <td>-0.925467</td>\n",
       "      <td>-0.952349</td>\n",
       "      <td>-0.785539</td>\n",
       "      <td>-0.912863</td>\n",
       "      <td>0.057783</td>\n",
       "      <td>0.476326</td>\n",
       "      <td>-0.958505</td>\n",
       "      <td>0.526328</td>\n",
       "      <td>-0.827045</td>\n",
       "      <td>-0.774228</td>\n",
       "    </tr>\n",
       "  </tbody>\n",
       "</table>\n",
       "<p>5 rows × 105 columns</p>\n",
       "</div>"
      ],
      "text/plain": [
       "     1      CRIM        ZN     INDUS      CHAS       NOX        RM       AGE  \\\n",
       "0  0.0 -0.419782  0.284830 -1.287909 -0.272599 -0.144217  0.413672 -0.120013   \n",
       "1  0.0 -0.417339 -0.487722 -0.593381 -0.272599 -0.740262  0.194274  0.367166   \n",
       "2  0.0 -0.417342 -0.487722 -0.593381 -0.272599 -0.740262  1.282714 -0.265812   \n",
       "3  0.0 -0.416750 -0.487722 -1.306878 -0.272599 -0.835284  1.016303 -0.809889   \n",
       "4  0.0 -0.412482 -0.487722 -1.306878 -0.272599 -0.835284  1.228577 -0.511180   \n",
       "\n",
       "        DIS       RAD    ...        TAX^2  TAX PTRATIO     TAX B  TAX LSTAT  \\\n",
       "0  0.140214 -0.982843    ...    -0.682024    -0.851123 -0.330577  -0.855594   \n",
       "1  0.557160 -0.867883    ...    -0.866530    -0.910453 -0.662577  -0.710303   \n",
       "2  0.557160 -0.867883    ...    -0.866530    -0.910453 -0.677834  -0.953823   \n",
       "3  1.077737 -0.752922    ...    -0.925467    -0.952349 -0.793346  -1.017347   \n",
       "4  1.077737 -0.752922    ...    -0.925467    -0.952349 -0.785539  -0.912863   \n",
       "\n",
       "   PTRATIO^2  PTRATIO B  PTRATIO LSTAT       B^2   B LSTAT   LSTAT^2  \n",
       "0  -1.458429  -0.258778      -1.119678  0.526328 -0.880250 -0.789529  \n",
       "1  -0.373078   0.281739      -0.525858  0.526328 -0.247866 -0.540454  \n",
       "2  -0.373078   0.242275      -1.150296  0.449414 -1.030947 -0.825825  \n",
       "3   0.057783   0.453202      -1.265329  0.483332 -1.192918 -0.858040  \n",
       "4   0.057783   0.476326      -0.958505  0.526328 -0.827045 -0.774228  \n",
       "\n",
       "[5 rows x 105 columns]"
      ]
     },
     "execution_count": 66,
     "metadata": {},
     "output_type": "execute_result"
    }
   ],
   "source": [
    "print(X_poly_sc.shape)\n",
    "X_poly_sc.head()"
   ]
  },
  {
   "cell_type": "markdown",
   "metadata": {},
   "source": [
    "**ベンチマーク**"
   ]
  },
  {
   "cell_type": "code",
   "execution_count": 90,
   "metadata": {},
   "outputs": [
    {
     "name": "stdout",
     "output_type": "stream",
     "text": [
      "0.7001713815773541\n"
     ]
    }
   ],
   "source": [
    "from sklearn.linear_model import RidgeCV, LassoCV\n",
    "from sklearn.model_selection import train_test_split\n",
    "\n",
    "#: 変数加工しない場合\n",
    "scores = []\n",
    "for _ in range(300):\n",
    "    X_train, X_test, y_train, y_test = train_test_split(X_sc, y, test_size=0.4)\n",
    "    model = RidgeCV()\n",
    "    model.fit(X_train, y_train)\n",
    "    scores.append(model.score(X_test, y_test))\n",
    "\n",
    "print(np.array(scores).mean())"
   ]
  },
  {
   "cell_type": "code",
   "execution_count": 91,
   "metadata": {},
   "outputs": [
    {
     "name": "stdout",
     "output_type": "stream",
     "text": [
      "0.8237635684479344\n"
     ]
    }
   ],
   "source": [
    "from sklearn.linear_model import RidgeCV, LassoCV\n",
    "from sklearn.model_selection import train_test_split\n",
    "\n",
    "#: 多項式変数を追加した場合\n",
    "scores = []\n",
    "for _ in range(300):\n",
    "    X_train, X_test, y_train, y_test = train_test_split(X_poly_sc, y, test_size=0.4)\n",
    "    model = RidgeCV()\n",
    "    model.fit(X_train, y_train)\n",
    "    scores.append(model.score(X_test, y_test))\n",
    "\n",
    "print(np.array(scores).mean())"
   ]
  },
  {
   "cell_type": "markdown",
   "metadata": {},
   "source": [
    "変数増やすだけでも精度は上がる模様。一応どの変数が効いているかを見てみる"
   ]
  },
  {
   "cell_type": "code",
   "execution_count": 95,
   "metadata": {},
   "outputs": [],
   "source": [
    "%matplotlib inline\n",
    "import matplotlib.pyplot as plt\n",
    "\n",
    "X_train, X_test, y_train, y_test = train_test_split(X_poly_sc, y, test_size=0.4)\n",
    "model = RidgeCV()\n",
    "model.fit(X_train, y_train)\n",
    "scores.append(model.score(X_test, y_test))\n"
   ]
  },
  {
   "cell_type": "code",
   "execution_count": 124,
   "metadata": {},
   "outputs": [],
   "source": [
    "df = pd.DataFrame([model.coef_, X_poly_sc.columns]).T\n",
    "df.columns = [\"coef\", \"name\"]\n",
    "df[\"coef\"] = df[\"coef\"].apply(float)"
   ]
  },
  {
   "cell_type": "code",
   "execution_count": 125,
   "metadata": {},
   "outputs": [
    {
     "data": {
      "text/plain": [
       "(array([ 5.,  8.,  9., 31., 20., 20., 10.,  1.,  0.,  1.]),\n",
       " array([-4.54260763, -3.41032542, -2.27804321, -1.145761  , -0.01347879,\n",
       "         1.11880342,  2.25108563,  3.38336784,  4.51565005,  5.64793226,\n",
       "         6.78021447]),\n",
       " <a list of 10 Patch objects>)"
      ]
     },
     "execution_count": 125,
     "metadata": {},
     "output_type": "execute_result"
    },
    {
     "data": {
      "image/png": "[encoded data removed]",
      "text/plain": [
       "<Figure size 432x288 with 1 Axes>"
      ]
     },
     "metadata": {
      "needs_background": "light"
     },
     "output_type": "display_data"
    }
   ],
   "source": [
    "plt.hist(df[\"coef\"])"
   ]
  },
  {
   "cell_type": "code",
   "execution_count": 134,
   "metadata": {},
   "outputs": [],
   "source": [
    "df_filtered = df.loc[(df[\"coef\"] < -3 ) | (df[\"coef\"] > 3), :]"
   ]
  },
  {
   "cell_type": "code",
   "execution_count": 139,
   "metadata": {},
   "outputs": [
    {
     "data": {
      "image/png": "[encoded data removed]",
      "text/plain": [
       "<Figure size 432x288 with 1 Axes>"
      ]
     },
     "metadata": {
      "needs_background": "light"
     },
     "output_type": "display_data"
    }
   ],
   "source": [
    "plt.barh(df_filtered[\"name\"], df_filtered[\"coef\"])\n",
    "plt.savefig(\"image/coefs.png\")"
   ]
  },
  {
   "cell_type": "markdown",
   "metadata": {},
   "source": [
    "### 遺伝的アルゴリズムによる変数選択"
   ]
  },
  {
   "cell_type": "markdown",
   "metadata": {},
   "source": [
    "精度(R^2)と特徴量の数の多目的最適化をするよ"
   ]
  },
  {
   "cell_type": "code",
   "execution_count": 242,
   "metadata": {},
   "outputs": [
    {
     "name": "stderr",
     "output_type": "stream",
     "text": [
      "C:\\Users\\horo\\Anaconda3\\lib\\site-packages\\deap\\creator.py:141: RuntimeWarning: A class named 'Fitness' has already been created and it will be overwritten. Consider deleting previous creation of that class or rename it.\n",
      "  RuntimeWarning)\n",
      "C:\\Users\\horo\\Anaconda3\\lib\\site-packages\\deap\\creator.py:141: RuntimeWarning: A class named 'Individual' has already been created and it will be overwritten. Consider deleting previous creation of that class or rename it.\n",
      "  RuntimeWarning)\n"
     ]
    },
    {
     "name": "stdout",
     "output_type": "stream",
     "text": [
      "gen\tnevals\tavg                      \tstd                    \tmin                      \tmax                      \n",
      "0  \t100   \t[52.64        0.79193392]\t[4.76554299 0.03044582]\t[39.          0.68799506]\t[64.          0.84397507]\n",
      "1  \t239   \t[50.06        0.81193261]\t[5.98300928 0.02658836]\t[38.          0.69981997]\t[63.          0.84516566]\n",
      "2  \t229   \t[46.74        0.82122466]\t[5.06679386 0.01769129]\t[36.          0.74206086]\t[57.          0.84544496]\n",
      "3  \t240   \t[44.69        0.82555239]\t[6.04267325 0.02124753]\t[31.          0.68878703]\t[62.          0.85600766]\n",
      "4  \t243   \t[42.9         0.83236491]\t[6.91736944 0.01831941]\t[31.          0.70490801]\t[61.          0.85600766]\n",
      "5  \t240   \t[41.85        0.83448565]\t[7.3421727  0.01929591]\t[31.          0.77860385]\t[60.          0.85600766]\n",
      "6  \t242   \t[40.07        0.83578245]\t[7.23499136 0.01977705]\t[28.          0.78594056]\t[60.          0.85749538]\n",
      "7  \t235   \t[41.31        0.84324723]\t[7.62324734 0.01509271]\t[27.          0.79575684]\t[60.          0.85749538]\n",
      "8  \t234   \t[38.28        0.84124737]\t[7.13173191 0.01707302]\t[27.          0.79575684]\t[58.          0.85914788]\n",
      "9  \t227   \t[36.94      0.843692]    \t[6.13485126 0.01510174]\t[26.          0.79412005]\t[58.          0.85914788]\n",
      "10 \t239   \t[35.8         0.84313622]\t[6.28012739 0.01812209]\t[25.          0.79412005]\t[46.          0.86058376]\n",
      "11 \t236   \t[35.93        0.84804832]\t[6.06507213 0.01098453]\t[23.         0.8134648]  \t[46.          0.86058376]\n",
      "12 \t242   \t[33.32        0.84573086]\t[6.10226188 0.01373472]\t[23.          0.79997556]\t[46.          0.86058376]\n",
      "13 \t239   \t[34.05        0.84843762]\t[6.93451512 0.01522922]\t[22.        0.786847]    \t[46.          0.86058376]\n",
      "14 \t237   \t[31.89        0.84892078]\t[5.66550086 0.01530762]\t[22.        0.786847]    \t[46.          0.86192504]\n",
      "15 \t248   \t[29.81       0.8453606]  \t[5.60481043 0.01971594]\t[21.        0.775467]    \t[44.          0.87151961]\n",
      "16 \t244   \t[30.21        0.84849119]\t[6.31711168 0.0179836 ]\t[21.          0.77551067]\t[44.          0.87151961]\n",
      "17 \t235   \t[28.56        0.84577779]\t[6.88523057 0.02118417]\t[19.          0.76842255]\t[44.          0.87151961]\n",
      "18 \t234   \t[31.49        0.85266304]\t[8.78008542 0.01793636]\t[19.          0.77863567]\t[49.          0.87151961]\n",
      "19 \t240   \t[32.47        0.85472831]\t[8.70913888 0.02154   ]\t[18.          0.77254296]\t[44.          0.87412451]\n",
      "20 \t233   \t[29.27        0.85264244]\t[7.01549    0.01762492]\t[18.          0.78265576]\t[44.          0.87412451]\n",
      "21 \t247   \t[28.69        0.85263027]\t[6.46482018 0.01785761]\t[18.          0.78265576]\t[44.          0.87412451]\n",
      "22 \t254   \t[29.64       0.8542362]  \t[7.53726741 0.01839176]\t[18.          0.78567918]\t[44.          0.87412451]\n",
      "23 \t226   \t[29.73        0.85372491]\t[8.74054346 0.02240712]\t[16.          0.75160281]\t[44.          0.87412451]\n",
      "24 \t233   \t[32.22        0.85543375]\t[9.62868631 0.02726818]\t[16.          0.75160281]\t[44.          0.87412451]\n",
      "25 \t253   \t[27.63        0.84796823]\t[8.39958928 0.0308167 ]\t[15.          0.75160281]\t[44.          0.87445602]\n",
      "26 \t238   \t[29.13        0.85068386]\t[9.99765472 0.02825533]\t[15.          0.75613929]\t[44.          0.87445602]\n",
      "27 \t248   \t[29.43        0.85208835]\t[10.62850413  0.0276328 ]\t[15.          0.75613929]\t[44.          0.87445602]\n",
      "28 \t244   \t[32.59        0.86248395]\t[9.3124594  0.01862001]  \t[15.          0.79060839]\t[41.          0.87445602]\n",
      "29 \t238   \t[36.75       0.8676119]  \t[8.09861099 0.01794616]  \t[15.          0.79060839]\t[41.          0.87445602]\n",
      "30 \t230   \t[36.35        0.86937338]\t[7.65032679 0.01178166]  \t[15.          0.80905677]\t[41.          0.87445602]\n",
      "31 \t233   \t[31.06        0.86217928]\t[8.82022675 0.01791301]  \t[15.          0.80586909]\t[41.          0.87592865]\n",
      "32 \t253   \t[27.48        0.85820738]\t[7.96803614 0.01885291]  \t[15.          0.80905677]\t[41.          0.87592865]\n",
      "33 \t245   \t[27.19        0.85777975]\t[8.71056255 0.01888166]  \t[15.          0.80905677]\t[41.          0.87592865]\n",
      "34 \t230   \t[30.84        0.86547168]\t[7.82651902 0.01504172]  \t[15.          0.81996603]\t[41.          0.87592865]\n",
      "35 \t232   \t[31.19        0.86336208]\t[8.82121874 0.01908897]  \t[15.          0.81996603]\t[41.          0.87592865]\n",
      "36 \t243   \t[33.49        0.86951181]\t[7.11687431 0.01217711]  \t[15.          0.81996603]\t[41.          0.87592865]\n",
      "37 \t229   \t[28.79        0.86180932]\t[8.74104685 0.01768238]  \t[15.          0.80348053]\t[41.          0.87592865]\n",
      "38 \t253   \t[25.25        0.85798449]\t[8.02542834 0.01708667]  \t[15.          0.81863669]\t[41.          0.87592865]\n",
      "39 \t242   \t[28.17       0.8654101]  \t[8.1768637  0.01206457]  \t[15.          0.81996603]\t[41.          0.87592865]\n",
      "40 \t249   \t[31.16        0.87006698]\t[7.8137315e+00 7.5867299e-03]\t[15.          0.82232011]\t[41.          0.87592865]\n",
      "41 \t242   \t[33.97        0.87235841]\t[7.92269525e+00 6.95959399e-03]\t[15.          0.82232011]\t[41.          0.87592865]\n",
      "42 \t243   \t[37.75        0.87416376]\t[6.53050534 0.00777551]        \t[15.          0.82232011]\t[41.          0.87592865]\n",
      "43 \t235   \t[41.          0.87592865]\t[0.0000000e+00 8.8817842e-16]  \t[41.          0.87592865]\t[41.          0.87592865]\n",
      "44 \t246   \t[41.          0.87592865]\t[0.0000000e+00 8.8817842e-16]  \t[41.          0.87592865]\t[41.          0.87592865]\n",
      "45 \t238   \t[41.          0.87592865]\t[0.0000000e+00 8.8817842e-16]  \t[41.          0.87592865]\t[41.          0.87592865]\n",
      "46 \t241   \t[40.87        0.87382647]\t[0.54138711 0.00930292]        \t[38.          0.82484454]\t[41.          0.87700113]\n",
      "47 \t249   \t[40.83        0.87450741]\t[0.69361373 0.0061802 ]        \t[37.         0.8342372]  \t[41.          0.87700113]\n",
      "48 \t232   \t[40.8         0.87506173]\t[0.84852814 0.0037147 ]        \t[36.          0.85272236]\t[41.          0.87700113]\n",
      "49 \t230   \t[40.34        0.87323139]\t[1.53766056 0.00649902]        \t[35.          0.84188645]\t[41.          0.87700113]\n",
      "50 \t240   \t[40.27        0.87340861]\t[1.55470254 0.00528879]        \t[35.         0.8561576]  \t[41.          0.87700113]\n"
     ]
    }
   ],
   "source": [
    "from deap import algorithms\n",
    "from deap import base\n",
    "from deap import creator\n",
    "from deap import tools\n",
    "\n",
    "\n",
    "def evalIndividual(individual):\n",
    "    \"\"\" 個体評価のための関数\n",
    "        Prameter:\n",
    "        individual: 要素が0or1のリスト.長さは入力変数の数と同じ\n",
    "        Return:\n",
    "        n_features: 使った特徴量の数\n",
    "        score: モデルの精度\n",
    "    \"\"\"\n",
    "    n_features = sum(individual)\n",
    "\n",
    "    if n_features == 0:\n",
    "        return 9999, -9999\n",
    "\n",
    "    X_temp = X_poly_sc.iloc[:, [bool(val) for val in individual]]\n",
    "    \n",
    "    scores = []\n",
    "    for _ in range(30):\n",
    "        X_train, X_test, y_train, y_test = train_test_split(X_temp, y, test_size=0.4) \n",
    "        model = RidgeCV()\n",
    "        model.fit(X_train, y_train)\n",
    "        scores.append(model.score(X_test, y_test))\n",
    "\n",
    "    score = np.array(scores).mean()\n",
    "\n",
    "    return n_features, score\n",
    "\n",
    "\n",
    "creator.create(\"Fitness\", base.Fitness, weights=(-1.0, 1.0))   \n",
    "creator.create(\"Individual\", list, fitness=creator.Fitness)\n",
    "\n",
    "\n",
    "toolbox = base.Toolbox()\n",
    "toolbox.register(\"attr_bool\", random.randint, 0, 1)\n",
    "toolbox.register(\"individual\", tools.initRepeat, creator.Individual, \n",
    "                 toolbox.attr_bool, X_poly_sc.shape[1])\n",
    "toolbox.register(\"population\", tools.initRepeat, list, toolbox.individual)\n",
    "\n",
    "\n",
    "toolbox.register(\"evaluate\", evalIndividual)\n",
    "toolbox.register(\"mate\", tools.cxTwoPoint)\n",
    "toolbox.register(\"mutate\", tools.mutFlipBit, indpb=0.05)\n",
    "toolbox.register(\"select\", tools.selNSGA2)\n",
    "\n",
    "\n",
    "NGEN = 50\n",
    "MU = 100\n",
    "LAMBDA = 300\n",
    "CXPB = 0.7\n",
    "MUTPB = 0.1\n",
    "\n",
    "pop = toolbox.population(n=MU)\n",
    "hof = tools.ParetoFront()\n",
    "stats = tools.Statistics(lambda ind: ind.fitness.values)\n",
    "stats.register(\"avg\", np.mean, axis=0)\n",
    "stats.register(\"std\", np.std, axis=0)\n",
    "stats.register(\"min\", np.min, axis=0)\n",
    "stats.register(\"max\", np.max, axis=0)\n",
    "\n",
    "pop, log = algorithms.eaMuPlusLambda(pop, toolbox, MU, LAMBDA, CXPB,\n",
    "                                     MUTPB, NGEN, stats, halloffame=hof)"
   ]
  },
  {
   "cell_type": "code",
   "execution_count": 243,
   "metadata": {},
   "outputs": [],
   "source": [
    "#パレート点の要約\n",
    "\n",
    "df_hof = pd.DataFrame(np.array(hof),columns=X_poly_sc.columns)\n",
    "\n",
    "scores = []\n",
    "for ind in hof:\n",
    "    scores.append(evalIndividual(ind))\n",
    "\n",
    "df_score = pd.DataFrame(np.array(scores), columns=[\"N_features\", \"SCORE\"])\n",
    "\n",
    "df_result = pd.concat([df_score, df_hof],1)"
   ]
  },
  {
   "cell_type": "code",
   "execution_count": 272,
   "metadata": {},
   "outputs": [
    {
     "data": {
      "text/plain": [
       "Index(['1', 'NOX', 'RM', 'RAD', 'B', 'CRIM CHAS', 'CHAS NOX', 'CHAS PTRATIO',\n",
       "       'NOX RM', 'NOX LSTAT', 'RM RAD', 'RM PTRATIO', 'AGE LSTAT', 'DIS RAD',\n",
       "       'RAD LSTAT', 'PTRATIO^2', 'LSTAT^2'],\n",
       "      dtype='object')"
      ]
     },
     "execution_count": 272,
     "metadata": {},
     "output_type": "execute_result"
    }
   ],
   "source": [
    "test = df_result.iloc[2, :]\n",
    "test[test==1].index"
   ]
  },
  {
   "cell_type": "code",
   "execution_count": 252,
   "metadata": {},
   "outputs": [],
   "source": [
    "# 最終世代\n",
    "df_fin = pd.DataFrame(np.array(pop),columns=X_poly_sc.columns)\n",
    "\n",
    "scores = []\n",
    "for ind in pop:\n",
    "    scores.append(evalIndividual(ind))\n",
    "\n",
    "df_score_fin = pd.DataFrame(np.array(scores), columns=[\"N_features\", \"SCORE\"])\n",
    "\n",
    "df_result_fin = pd.concat([df_score_fin, df_fin],1)"
   ]
  },
  {
   "cell_type": "code",
   "execution_count": 245,
   "metadata": {},
   "outputs": [
    {
     "data": {
      "text/plain": [
       "Text(0, 0.5, 'N_Features')"
      ]
     },
     "execution_count": 245,
     "metadata": {},
     "output_type": "execute_result"
    },
    {
     "data": {
      "image/png": "[encoded data removed]",
      "text/plain": [
       "<Figure size 432x288 with 1 Axes>"
      ]
     },
     "metadata": {
      "needs_background": "light"
     },
     "output_type": "display_data"
    }
   ],
   "source": [
    "plt.plot(df_result[\"N_features\"], df_result[\"SCORE\"])\n",
    "plt.xlabel(\"Scores\")\n",
    "plt.ylabel(\"N_Features\")"
   ]
  },
  {
   "cell_type": "code",
   "execution_count": 263,
   "metadata": {},
   "outputs": [
    {
     "data": {
      "image/png": "[encoded data removed]",
      "text/plain": [
       "<Figure size 432x288 with 1 Axes>"
      ]
     },
     "metadata": {
      "needs_background": "light"
     },
     "output_type": "display_data"
    }
   ],
   "source": [
    "plt.scatter(df_result_fin[\"N_features\"], df_result_fin[\"SCORE\"], color=\"royalblue\",alpha=0.6, label=\"Final generation\")\n",
    "plt.scatter(df_result[\"N_features\"], df_result[\"SCORE\"], color=\"darkred\", label=\"Pareto\")\n",
    "plt.xlabel(\"N_Features\")\n",
    "plt.ylabel(\"Score\")\n",
    "plt.legend()\n",
    "plt.savefig(\"image/pareto.png\")"
   ]
  },
  {
   "cell_type": "code",
   "execution_count": 247,
   "metadata": {},
   "outputs": [
    {
     "data": {
      "text/plain": [
       "(506, 105)"
      ]
     },
     "execution_count": 247,
     "metadata": {},
     "output_type": "execute_result"
    }
   ],
   "source": [
    "X_poly_sc.shape"
   ]
  },
  {
   "cell_type": "code",
   "execution_count": 250,
   "metadata": {},
   "outputs": [
    {
     "data": {
      "text/plain": [
       "array([[1, 0, 1, ..., 0, 0, 1],\n",
       "       [1, 0, 1, ..., 0, 0, 1],\n",
       "       [1, 0, 1, ..., 0, 0, 1],\n",
       "       ...,\n",
       "       [1, 0, 1, ..., 0, 0, 1],\n",
       "       [1, 0, 1, ..., 0, 0, 1],\n",
       "       [1, 0, 1, ..., 0, 0, 1]])"
      ]
     },
     "execution_count": 250,
     "metadata": {},
     "output_type": "execute_result"
    }
   ],
   "source": [
    "np.array(pop)"
   ]
  },
  {
   "cell_type": "code",
   "execution_count": null,
   "metadata": {},
   "outputs": [],
   "source": []
  }
 ],
 "metadata": {
  "kernelspec": {
   "display_name": "Python 3",
   "language": "python",
   "name": "python3"
  },
  "language_info": {
   "codemirror_mode": {
    "name": "ipython",
    "version": 3
   },
   "file_extension": ".py",
   "mimetype": "text/x-python",
   "name": "python",
   "nbconvert_exporter": "python",
   "pygments_lexer": "ipython3",
   "version": "3.7.1"
  }
 },
 "nbformat": 4,
 "nbformat_minor": 2
}
